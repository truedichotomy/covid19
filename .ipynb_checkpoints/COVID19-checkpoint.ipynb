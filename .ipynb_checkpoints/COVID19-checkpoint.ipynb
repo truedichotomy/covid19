{
 "cells": [
  {
   "cell_type": "code",
   "execution_count": 1,
   "metadata": {},
   "outputs": [
    {
     "name": "stderr",
     "output_type": "stream",
     "text": [
      "\u001b[32m\u001b[1m Activating\u001b[22m\u001b[39m environment at `/bluedrive/.julia/environments/covid19/Project.toml`\n"
     ]
    }
   ],
   "source": [
    "]activate @covid19"
   ]
  },
  {
   "cell_type": "code",
   "execution_count": 2,
   "metadata": {},
   "outputs": [
    {
     "name": "stderr",
     "output_type": "stream",
     "text": [
      "\u001b[32m\u001b[1m   Updating\u001b[22m\u001b[39m registry at `/bluedrive/.julia/registries/General`\n"
     ]
    },
    {
     "name": "stdout",
     "output_type": "stream",
     "text": [
      "\u001b[?25l    "
     ]
    },
    {
     "name": "stderr",
     "output_type": "stream",
     "text": [
      "\u001b[32m\u001b[1m   Updating\u001b[22m\u001b[39m git-repo `https://github.com/JuliaRegistries/General.git`\n"
     ]
    },
    {
     "name": "stdout",
     "output_type": "stream",
     "text": [
      "\u001b[36m\u001b[1mFetching:\u001b[22m\u001b[39m [>                                        ]  0.0 %\r",
      "    \u001b[36m\u001b[1mFetching:\u001b[22m\u001b[39m [====>                                    ]  9.1 %\r",
      "    \u001b[36m\u001b[1mFetching:\u001b[22m\u001b[39m [========>                                ]  18.2 %\r",
      "    \u001b[36m\u001b[1mFetching:\u001b[22m\u001b[39m [===========>                             ]  27.3 %\r",
      "    \u001b[36m\u001b[1mFetching:\u001b[22m\u001b[39m [===============>                         ]  36.4 %\r",
      "    \u001b[36m\u001b[1mFetching:\u001b[22m\u001b[39m [===================>                     ]  45.5 %\r",
      "    \u001b[36m\u001b[1mFetching:\u001b[22m\u001b[39m [======================>                  ]  54.5 %\r",
      "    \u001b[36m\u001b[1mFetching:\u001b[22m\u001b[39m [==========================>              ]  63.6 %\r",
      "    \u001b[36m\u001b[1mFetching:\u001b[22m\u001b[39m [==============================>          ]  72.7 %\r",
      "    \u001b[36m\u001b[1mFetching:\u001b[22m\u001b[39m [=================================>       ]  81.8 %\r",
      "    \u001b[36m\u001b[1mFetching:\u001b[22m\u001b[39m [=====================================>   ]  90.9 %\r",
      "    \u001b[36m\u001b[1mFetching:\u001b[22m\u001b[39m [========================================>]  100.0 %\r",
      "\u001b[2K\u001b[?25h"
     ]
    },
    {
     "name": "stderr",
     "output_type": "stream",
     "text": [
      "\u001b[32m\u001b[1m   Updating\u001b[22m\u001b[39m `/bluedrive/.julia/environments/covid19/Project.toml`\n",
      "\u001b[90m [no changes]\u001b[39m\n",
      "\u001b[32m\u001b[1m   Updating\u001b[22m\u001b[39m `/bluedrive/.julia/environments/covid19/Manifest.toml`\n",
      "\u001b[90m [no changes]\u001b[39m\n"
     ]
    }
   ],
   "source": [
    "using Pkg\n",
    "Pkg.update()"
   ]
  },
  {
   "cell_type": "code",
   "execution_count": 3,
   "metadata": {},
   "outputs": [
    {
     "data": {
      "text/plain": [
       "\"/bluedrive/anaconda3/bin/python\""
      ]
     },
     "execution_count": 3,
     "metadata": {},
     "output_type": "execute_result"
    }
   ],
   "source": [
    "#]add CSV HTTP GitHub DataFrames PyCall PyPlot Plots Dates Statistics TimeSeries MLJ XGBoost Measurements LsqFit NCDatasets Glob JSON3 Tables Pandas FileIO CSVFiles Missings JLD2 OnlineStats CUDAnative CuArrays\n",
    "ENV[\"PYTHON\"] = ENV[\"CONDA_PYTHON_EXE\"]\n",
    "#Pkg.build(\"PyCall\")"
   ]
  },
  {
   "cell_type": "code",
   "execution_count": 4,
   "metadata": {},
   "outputs": [
    {
     "data": {
      "text/plain": [
       "4-element Array{String,1}:\n",
       " \"@\"\n",
       " \"@v#.#\"\n",
       " \"@stdlib\"\n",
       " \"/bluedrive/GitHub/covid19\""
      ]
     },
     "execution_count": 4,
     "metadata": {},
     "output_type": "execute_result"
    }
   ],
   "source": [
    "dir_covid19 = \"/bluedrive/GitHub/covid19\"\n",
    "cd(dir_covid19)\n",
    "if (dir_covid19 in LOAD_PATH) == false\n",
    "    push!(LOAD_PATH, dir_covid19);\n",
    "end"
   ]
  },
  {
   "cell_type": "code",
   "execution_count": 5,
   "metadata": {},
   "outputs": [],
   "source": [
    "using Conda, PyCall, CSVFiles, DataFrames"
   ]
  },
  {
   "cell_type": "code",
   "execution_count": null,
   "metadata": {},
   "outputs": [],
   "source": [
    "# data source: https://github.com/nytimes/covid-19-data\n",
    "cv19nyt_county = DataFrame(load(\"https://github.com/nytimes/covid-19-data/raw/master/us-counties.csv\"));\n",
    "cv19nyt_state = DataFrame(load(\"https://github.com/nytimes/covid-19-data/raw/master/us-states.csv\"));\n",
    "\n",
    "# data source: https://github.com/CSSEGISandData/COVID-19\n",
    "fipslookup = DataFrame(load(\"https://github.com/CSSEGISandData/COVID-19/raw/master/csse_covid_19_data/UID_ISO_FIPS_LookUp_Table.csv\"));\n",
    "ts_cv19_confirm_global = DataFrame(load(\"https://github.com/CSSEGISandData/COVID-19/raw/master/csse_covid_19_data/csse_covid_19_time_series/time_series_covid19_confirmed_global.csv\");\n",
    "ts_cv19_confirm_US = DataFrame(load(\"https://github.com/CSSEGISandData/COVID-19/raw/master/csse_covid_19_data/csse_covid_19_time_series/time_series_covid19_confirmed_global.csv\");\n",
    "ts_cv19_death_global = DataFrame(load(\"https://github.com/CSSEGISandData/COVID-19/raw/master/csse_covid_19_data/csse_covid_19_time_series/time_series_covid19_deaths_global.csv\");\n",
    "ts_cv19_death_US = DataFrame(load(\"https://github.com/CSSEGISandData/COVID-19/raw/master/csse_covid_19_data/csse_covid_19_time_series/time_series_covid19_deaths_global.csv\");\n"
   ]
  },
  {
   "cell_type": "code",
   "execution_count": 39,
   "metadata": {},
   "outputs": [
    {
     "data": {
      "text/html": [
       "<table class=\"data-frame\"><thead><tr><th></th><th>date</th><th>county</th><th>state</th><th>fips</th><th>cases</th><th>deaths</th></tr><tr><th></th><th>Dates…</th><th>String</th><th>String</th><th>Int64⍰</th><th>Int64</th><th>Int64</th></tr></thead><tbody><p>38,197 rows × 6 columns</p><tr><th>1</th><td>2020-01-21</td><td>Snohomish</td><td>Washington</td><td>53061</td><td>1</td><td>0</td></tr><tr><th>2</th><td>2020-01-22</td><td>Snohomish</td><td>Washington</td><td>53061</td><td>1</td><td>0</td></tr><tr><th>3</th><td>2020-01-23</td><td>Snohomish</td><td>Washington</td><td>53061</td><td>1</td><td>0</td></tr><tr><th>4</th><td>2020-01-24</td><td>Cook</td><td>Illinois</td><td>17031</td><td>1</td><td>0</td></tr><tr><th>5</th><td>2020-01-24</td><td>Snohomish</td><td>Washington</td><td>53061</td><td>1</td><td>0</td></tr><tr><th>6</th><td>2020-01-25</td><td>Orange</td><td>California</td><td>6059</td><td>1</td><td>0</td></tr><tr><th>7</th><td>2020-01-25</td><td>Cook</td><td>Illinois</td><td>17031</td><td>1</td><td>0</td></tr><tr><th>8</th><td>2020-01-25</td><td>Snohomish</td><td>Washington</td><td>53061</td><td>1</td><td>0</td></tr><tr><th>9</th><td>2020-01-26</td><td>Maricopa</td><td>Arizona</td><td>4013</td><td>1</td><td>0</td></tr><tr><th>10</th><td>2020-01-26</td><td>Los Angeles</td><td>California</td><td>6037</td><td>1</td><td>0</td></tr><tr><th>11</th><td>2020-01-26</td><td>Orange</td><td>California</td><td>6059</td><td>1</td><td>0</td></tr><tr><th>12</th><td>2020-01-26</td><td>Cook</td><td>Illinois</td><td>17031</td><td>1</td><td>0</td></tr><tr><th>13</th><td>2020-01-26</td><td>Snohomish</td><td>Washington</td><td>53061</td><td>1</td><td>0</td></tr><tr><th>14</th><td>2020-01-27</td><td>Maricopa</td><td>Arizona</td><td>4013</td><td>1</td><td>0</td></tr><tr><th>15</th><td>2020-01-27</td><td>Los Angeles</td><td>California</td><td>6037</td><td>1</td><td>0</td></tr><tr><th>16</th><td>2020-01-27</td><td>Orange</td><td>California</td><td>6059</td><td>1</td><td>0</td></tr><tr><th>17</th><td>2020-01-27</td><td>Cook</td><td>Illinois</td><td>17031</td><td>1</td><td>0</td></tr><tr><th>18</th><td>2020-01-27</td><td>Snohomish</td><td>Washington</td><td>53061</td><td>1</td><td>0</td></tr><tr><th>19</th><td>2020-01-28</td><td>Maricopa</td><td>Arizona</td><td>4013</td><td>1</td><td>0</td></tr><tr><th>20</th><td>2020-01-28</td><td>Los Angeles</td><td>California</td><td>6037</td><td>1</td><td>0</td></tr><tr><th>21</th><td>2020-01-28</td><td>Orange</td><td>California</td><td>6059</td><td>1</td><td>0</td></tr><tr><th>22</th><td>2020-01-28</td><td>Cook</td><td>Illinois</td><td>17031</td><td>1</td><td>0</td></tr><tr><th>23</th><td>2020-01-28</td><td>Snohomish</td><td>Washington</td><td>53061</td><td>1</td><td>0</td></tr><tr><th>24</th><td>2020-01-29</td><td>Maricopa</td><td>Arizona</td><td>4013</td><td>1</td><td>0</td></tr><tr><th>25</th><td>2020-01-29</td><td>Los Angeles</td><td>California</td><td>6037</td><td>1</td><td>0</td></tr><tr><th>26</th><td>2020-01-29</td><td>Orange</td><td>California</td><td>6059</td><td>1</td><td>0</td></tr><tr><th>27</th><td>2020-01-29</td><td>Cook</td><td>Illinois</td><td>17031</td><td>1</td><td>0</td></tr><tr><th>28</th><td>2020-01-29</td><td>Snohomish</td><td>Washington</td><td>53061</td><td>1</td><td>0</td></tr><tr><th>29</th><td>2020-01-30</td><td>Maricopa</td><td>Arizona</td><td>4013</td><td>1</td><td>0</td></tr><tr><th>30</th><td>2020-01-30</td><td>Los Angeles</td><td>California</td><td>6037</td><td>1</td><td>0</td></tr><tr><th>&vellip;</th><td>&vellip;</td><td>&vellip;</td><td>&vellip;</td><td>&vellip;</td><td>&vellip;</td><td>&vellip;</td></tr></tbody></table>"
      ],
      "text/latex": [
       "\\begin{tabular}{r|cccccc}\n",
       "\t& date & county & state & fips & cases & deaths\\\\\n",
       "\t\\hline\n",
       "\t& Dates… & String & String & Int64⍰ & Int64 & Int64\\\\\n",
       "\t\\hline\n",
       "\t1 & 2020-01-21 & Snohomish & Washington & 53061 & 1 & 0 \\\\\n",
       "\t2 & 2020-01-22 & Snohomish & Washington & 53061 & 1 & 0 \\\\\n",
       "\t3 & 2020-01-23 & Snohomish & Washington & 53061 & 1 & 0 \\\\\n",
       "\t4 & 2020-01-24 & Cook & Illinois & 17031 & 1 & 0 \\\\\n",
       "\t5 & 2020-01-24 & Snohomish & Washington & 53061 & 1 & 0 \\\\\n",
       "\t6 & 2020-01-25 & Orange & California & 6059 & 1 & 0 \\\\\n",
       "\t7 & 2020-01-25 & Cook & Illinois & 17031 & 1 & 0 \\\\\n",
       "\t8 & 2020-01-25 & Snohomish & Washington & 53061 & 1 & 0 \\\\\n",
       "\t9 & 2020-01-26 & Maricopa & Arizona & 4013 & 1 & 0 \\\\\n",
       "\t10 & 2020-01-26 & Los Angeles & California & 6037 & 1 & 0 \\\\\n",
       "\t11 & 2020-01-26 & Orange & California & 6059 & 1 & 0 \\\\\n",
       "\t12 & 2020-01-26 & Cook & Illinois & 17031 & 1 & 0 \\\\\n",
       "\t13 & 2020-01-26 & Snohomish & Washington & 53061 & 1 & 0 \\\\\n",
       "\t14 & 2020-01-27 & Maricopa & Arizona & 4013 & 1 & 0 \\\\\n",
       "\t15 & 2020-01-27 & Los Angeles & California & 6037 & 1 & 0 \\\\\n",
       "\t16 & 2020-01-27 & Orange & California & 6059 & 1 & 0 \\\\\n",
       "\t17 & 2020-01-27 & Cook & Illinois & 17031 & 1 & 0 \\\\\n",
       "\t18 & 2020-01-27 & Snohomish & Washington & 53061 & 1 & 0 \\\\\n",
       "\t19 & 2020-01-28 & Maricopa & Arizona & 4013 & 1 & 0 \\\\\n",
       "\t20 & 2020-01-28 & Los Angeles & California & 6037 & 1 & 0 \\\\\n",
       "\t21 & 2020-01-28 & Orange & California & 6059 & 1 & 0 \\\\\n",
       "\t22 & 2020-01-28 & Cook & Illinois & 17031 & 1 & 0 \\\\\n",
       "\t23 & 2020-01-28 & Snohomish & Washington & 53061 & 1 & 0 \\\\\n",
       "\t24 & 2020-01-29 & Maricopa & Arizona & 4013 & 1 & 0 \\\\\n",
       "\t25 & 2020-01-29 & Los Angeles & California & 6037 & 1 & 0 \\\\\n",
       "\t26 & 2020-01-29 & Orange & California & 6059 & 1 & 0 \\\\\n",
       "\t27 & 2020-01-29 & Cook & Illinois & 17031 & 1 & 0 \\\\\n",
       "\t28 & 2020-01-29 & Snohomish & Washington & 53061 & 1 & 0 \\\\\n",
       "\t29 & 2020-01-30 & Maricopa & Arizona & 4013 & 1 & 0 \\\\\n",
       "\t30 & 2020-01-30 & Los Angeles & California & 6037 & 1 & 0 \\\\\n",
       "\t$\\dots$ & $\\dots$ & $\\dots$ & $\\dots$ & $\\dots$ & $\\dots$ & $\\dots$ \\\\\n",
       "\\end{tabular}\n"
      ],
      "text/plain": [
       "38197×6 DataFrame\n",
       "│ Row   │ date       │ county      │ state      │ fips   │ cases │ deaths │\n",
       "│       │ \u001b[90mDates.Date\u001b[39m │ \u001b[90mString\u001b[39m      │ \u001b[90mString\u001b[39m     │ \u001b[90mInt64⍰\u001b[39m │ \u001b[90mInt64\u001b[39m │ \u001b[90mInt64\u001b[39m  │\n",
       "├───────┼────────────┼─────────────┼────────────┼────────┼───────┼────────┤\n",
       "│ 1     │ 2020-01-21 │ Snohomish   │ Washington │ 53061  │ 1     │ 0      │\n",
       "│ 2     │ 2020-01-22 │ Snohomish   │ Washington │ 53061  │ 1     │ 0      │\n",
       "│ 3     │ 2020-01-23 │ Snohomish   │ Washington │ 53061  │ 1     │ 0      │\n",
       "│ 4     │ 2020-01-24 │ Cook        │ Illinois   │ 17031  │ 1     │ 0      │\n",
       "│ 5     │ 2020-01-24 │ Snohomish   │ Washington │ 53061  │ 1     │ 0      │\n",
       "│ 6     │ 2020-01-25 │ Orange      │ California │ 6059   │ 1     │ 0      │\n",
       "│ 7     │ 2020-01-25 │ Cook        │ Illinois   │ 17031  │ 1     │ 0      │\n",
       "│ 8     │ 2020-01-25 │ Snohomish   │ Washington │ 53061  │ 1     │ 0      │\n",
       "│ 9     │ 2020-01-26 │ Maricopa    │ Arizona    │ 4013   │ 1     │ 0      │\n",
       "│ 10    │ 2020-01-26 │ Los Angeles │ California │ 6037   │ 1     │ 0      │\n",
       "⋮\n",
       "│ 38187 │ 2020-04-06 │ Johnson     │ Wyoming    │ 56019  │ 8     │ 0      │\n",
       "│ 38188 │ 2020-04-06 │ Laramie     │ Wyoming    │ 56021  │ 45    │ 0      │\n",
       "│ 38189 │ 2020-04-06 │ Lincoln     │ Wyoming    │ 56023  │ 4     │ 0      │\n",
       "│ 38190 │ 2020-04-06 │ Natrona     │ Wyoming    │ 56025  │ 26    │ 0      │\n",
       "│ 38191 │ 2020-04-06 │ Park        │ Wyoming    │ 56029  │ 1     │ 0      │\n",
       "│ 38192 │ 2020-04-06 │ Sheridan    │ Wyoming    │ 56033  │ 12    │ 0      │\n",
       "│ 38193 │ 2020-04-06 │ Sublette    │ Wyoming    │ 56035  │ 1     │ 0      │\n",
       "│ 38194 │ 2020-04-06 │ Sweetwater  │ Wyoming    │ 56037  │ 5     │ 0      │\n",
       "│ 38195 │ 2020-04-06 │ Teton       │ Wyoming    │ 56039  │ 40    │ 0      │\n",
       "│ 38196 │ 2020-04-06 │ Uinta       │ Wyoming    │ 56041  │ 3     │ 0      │\n",
       "│ 38197 │ 2020-04-06 │ Washakie    │ Wyoming    │ 56043  │ 4     │ 0      │"
      ]
     },
     "execution_count": 39,
     "metadata": {},
     "output_type": "execute_result"
    }
   ],
   "source": []
  },
  {
   "cell_type": "code",
   "execution_count": null,
   "metadata": {},
   "outputs": [],
   "source": []
  }
 ],
 "metadata": {
  "kernelspec": {
   "display_name": "Julia 1.4.1",
   "language": "julia",
   "name": "julia-1.4"
  },
  "language_info": {
   "file_extension": ".jl",
   "mimetype": "application/julia",
   "name": "julia",
   "version": "1.4.1"
  }
 },
 "nbformat": 4,
 "nbformat_minor": 4
}
