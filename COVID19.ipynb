{
 "cells": [
  {
   "cell_type": "code",
   "execution_count": 1,
   "metadata": {},
   "outputs": [
    {
     "name": "stderr",
     "output_type": "stream",
     "text": [
      "\u001b[32m\u001b[1m Activating\u001b[22m\u001b[39m new environment at `~/.julia/environments/covid19/Project.toml`\n"
     ]
    }
   ],
   "source": [
    "]activate @covid19"
   ]
  },
  {
   "cell_type": "code",
   "execution_count": null,
   "metadata": {},
   "outputs": [],
   "source": []
  },
  {
   "cell_type": "code",
   "execution_count": 2,
   "metadata": {},
   "outputs": [
    {
     "name": "stderr",
     "output_type": "stream",
     "text": [
      "\u001b[32m\u001b[1m   Updating\u001b[22m\u001b[39m registry at `~/.julia/registries/General`\n"
     ]
    },
    {
     "name": "stdout",
     "output_type": "stream",
     "text": [
      "\u001b[?25l\u001b[2K"
     ]
    },
    {
     "name": "stderr",
     "output_type": "stream",
     "text": [
      "\u001b[32m\u001b[1m   Updating\u001b[22m\u001b[39m git-repo `https://github.com/JuliaRegistries/General.git`\n"
     ]
    },
    {
     "name": "stdout",
     "output_type": "stream",
     "text": [
      "\u001b[?25h"
     ]
    },
    {
     "name": "stderr",
     "output_type": "stream",
     "text": [
      "\u001b[32m\u001b[1m   Updating\u001b[22m\u001b[39m `~/.julia/environments/covid19/Project.toml`\n",
      "\u001b[90m [no changes]\u001b[39m\n",
      "\u001b[32m\u001b[1m   Updating\u001b[22m\u001b[39m `~/.julia/environments/covid19/Manifest.toml`\n",
      "\u001b[90m [no changes]\u001b[39m\n"
     ]
    }
   ],
   "source": [
    "using Pkg\n",
    "Pkg.update()"
   ]
  },
  {
   "cell_type": "code",
   "execution_count": 3,
   "metadata": {},
   "outputs": [
    {
     "data": {
      "text/plain": [
       "\"/bluedrive/anaconda3/bin/python\""
      ]
     },
     "execution_count": 3,
     "metadata": {},
     "output_type": "execute_result"
    }
   ],
   "source": [
    "#]add CSV HTTP GitHub DataFrames PyCall PyPlot Plots Dates Statistics TimeSeries MLJ XGBoost Measurements LsqFit NCDatasets Glob JSON3 Tables Pandas FileIO CSVFiles Missings JLD2 OnlineStats CUDAnative CuArrays\n",
    "ENV[\"PYTHON\"] = ENV[\"CONDA_PYTHON_EXE\"]\n",
    "#Pkg.build(\"PyCall\")"
   ]
  },
  {
   "cell_type": "code",
   "execution_count": 4,
   "metadata": {},
   "outputs": [
    {
     "data": {
      "text/plain": [
       "4-element Array{String,1}:\n",
       " \"@\"\n",
       " \"@v#.#\"\n",
       " \"@stdlib\"\n",
       " \"/bluedrive/GitHub/covid19\""
      ]
     },
     "execution_count": 4,
     "metadata": {},
     "output_type": "execute_result"
    }
   ],
   "source": [
    "dir_covid19 = \"/bluedrive/GitHub/covid19\"\n",
    "cd(dir_covid19)\n",
    "if (dir_covid19 in LOAD_PATH) == false\n",
    "    push!(LOAD_PATH, dir_covid19);\n",
    "end"
   ]
  },
  {
   "cell_type": "code",
   "execution_count": 5,
   "metadata": {},
   "outputs": [],
   "source": [
    "using Conda, PyCall, CSVFiles, DataFrames"
   ]
  },
  {
   "cell_type": "code",
   "execution_count": null,
   "metadata": {},
   "outputs": [],
   "source": [
    "# data source: https://github.com/nytimes/covid-19-data\n",
    "cv19nyt_county = DataFrame(load(\"https://github.com/nytimes/covid-19-data/raw/master/us-counties.csv\"));\n",
    "cv19nyt_state = DataFrame(load(\"https://github.com/nytimes/covid-19-data/raw/master/us-states.csv\"));\n",
    "\n",
    "# data source: https://github.com/CSSEGISandData/COVID-19\n",
    "fipslookup = DataFrame(load(\"https://github.com/CSSEGISandData/COVID-19/raw/master/csse_covid_19_data/UID_ISO_FIPS_LookUp_Table.csv\"));\n",
    "ts_cv19_confirm_global = DataFrame(load(\"https://github.com/CSSEGISandData/COVID-19/raw/master/csse_covid_19_data/csse_covid_19_time_series/time_series_covid19_confirmed_global.csv\");\n",
    "ts_cv19_confirm_US = DataFrame(load(\"https://github.com/CSSEGISandData/COVID-19/raw/master/csse_covid_19_data/csse_covid_19_time_series/time_series_covid19_confirmed_global.csv\");\n",
    "ts_cv19_death_global = DataFrame(load(\"https://github.com/CSSEGISandData/COVID-19/raw/master/csse_covid_19_data/csse_covid_19_time_series/time_series_covid19_deaths_global.csv\");\n",
    "ts_cv19_death_US = DataFrame(load(\"https://github.com/CSSEGISandData/COVID-19/raw/master/csse_covid_19_data/csse_covid_19_time_series/time_series_covid19_deaths_global.csv\");\n"
   ]
  },
  {
   "cell_type": "code",
   "execution_count": 39,
   "metadata": {},
   "outputs": [
    {
     "data": {
      "text/html": [
       "<table class=\"data-frame\"><thead><tr><th></th><th>date</th><th>county</th><th>state</th><th>fips</th><th>cases</th><th>deaths</th></tr><tr><th></th><th>Dates…</th><th>String</th><th>String</th><th>Int64⍰</th><th>Int64</th><th>Int64</th></tr></thead><tbody><p>38,197 rows × 6 columns</p><tr><th>1</th><td>2020-01-21</td><td>Snohomish</td><td>Washington</td><td>53061</td><td>1</td><td>0</td></tr><tr><th>2</th><td>2020-01-22</td><td>Snohomish</td><td>Washington</td><td>53061</td><td>1</td><td>0</td></tr><tr><th>3</th><td>2020-01-23</td><td>Snohomish</td><td>Washington</td><td>53061</td><td>1</td><td>0</td></tr><tr><th>4</th><td>2020-01-24</td><td>Cook</td><td>Illinois</td><td>17031</td><td>1</td><td>0</td></tr><tr><th>5</th><td>2020-01-24</td><td>Snohomish</td><td>Washington</td><td>53061</td><td>1</td><td>0</td></tr><tr><th>6</th><td>2020-01-25</td><td>Orange</td><td>California</td><td>6059</td><td>1</td><td>0</td></tr><tr><th>7</th><td>2020-01-25</td><td>Cook</td><td>Illinois</td><td>17031</td><td>1</td><td>0</td></tr><tr><th>8</th><td>2020-01-25</td><td>Snohomish</td><td>Washington</td><td>53061</td><td>1</td><td>0</td></tr><tr><th>9</th><td>2020-01-26</td><td>Maricopa</td><td>Arizona</td><td>4013</td><td>1</td><td>0</td></tr><tr><th>10</th><td>2020-01-26</td><td>Los Angeles</td><td>California</td><td>6037</td><td>1</td><td>0</td></tr><tr><th>11</th><td>2020-01-26</td><td>Orange</td><td>California</td><td>6059</td><td>1</td><td>0</td></tr><tr><th>12</th><td>2020-01-26</td><td>Cook</td><td>Illinois</td><td>17031</td><td>1</td><td>0</td></tr><tr><th>13</th><td>2020-01-26</td><td>Snohomish</td><td>Washington</td><td>53061</td><td>1</td><td>0</td></tr><tr><th>14</th><td>2020-01-27</td><td>Maricopa</td><td>Arizona</td><td>4013</td><td>1</td><td>0</td></tr><tr><th>15</th><td>2020-01-27</td><td>Los Angeles</td><td>California</td><td>6037</td><td>1</td><td>0</td></tr><tr><th>16</th><td>2020-01-27</td><td>Orange</td><td>California</td><td>6059</td><td>1</td><td>0</td></tr><tr><th>17</th><td>2020-01-27</td><td>Cook</td><td>Illinois</td><td>17031</td><td>1</td><td>0</td></tr><tr><th>18</th><td>2020-01-27</td><td>Snohomish</td><td>Washington</td><td>53061</td><td>1</td><td>0</td></tr><tr><th>19</th><td>2020-01-28</td><td>Maricopa</td><td>Arizona</td><td>4013</td><td>1</td><td>0</td></tr><tr><th>20</th><td>2020-01-28</td><td>Los Angeles</td><td>California</td><td>6037</td><td>1</td><td>0</td></tr><tr><th>21</th><td>2020-01-28</td><td>Orange</td><td>California</td><td>6059</td><td>1</td><td>0</td></tr><tr><th>22</th><td>2020-01-28</td><td>Cook</td><td>Illinois</td><td>17031</td><td>1</td><td>0</td></tr><tr><th>23</th><td>2020-01-28</td><td>Snohomish</td><td>Washington</td><td>53061</td><td>1</td><td>0</td></tr><tr><th>24</th><td>2020-01-29</td><td>Maricopa</td><td>Arizona</td><td>4013</td><td>1</td><td>0</td></tr><tr><th>25</th><td>2020-01-29</td><td>Los Angeles</td><td>California</td><td>6037</td><td>1</td><td>0</td></tr><tr><th>26</th><td>2020-01-29</td><td>Orange</td><td>California</td><td>6059</td><td>1</td><td>0</td></tr><tr><th>27</th><td>2020-01-29</td><td>Cook</td><td>Illinois</td><td>17031</td><td>1</td><td>0</td></tr><tr><th>28</th><td>2020-01-29</td><td>Snohomish</td><td>Washington</td><td>53061</td><td>1</td><td>0</td></tr><tr><th>29</th><td>2020-01-30</td><td>Maricopa</td><td>Arizona</td><td>4013</td><td>1</td><td>0</td></tr><tr><th>30</th><td>2020-01-30</td><td>Los Angeles</td><td>California</td><td>6037</td><td>1</td><td>0</td></tr><tr><th>&vellip;</th><td>&vellip;</td><td>&vellip;</td><td>&vellip;</td><td>&vellip;</td><td>&vellip;</td><td>&vellip;</td></tr></tbody></table>"
      ],
      "text/latex": [
       "\\begin{tabular}{r|cccccc}\n",
       "\t& date & county & state & fips & cases & deaths\\\\\n",
       "\t\\hline\n",
       "\t& Dates… & String & String & Int64⍰ & Int64 & Int64\\\\\n",
       "\t\\hline\n",
       "\t1 & 2020-01-21 & Snohomish & Washington & 53061 & 1 & 0 \\\\\n",
       "\t2 & 2020-01-22 & Snohomish & Washington & 53061 & 1 & 0 \\\\\n",
       "\t3 & 2020-01-23 & Snohomish & Washington & 53061 & 1 & 0 \\\\\n",
       "\t4 & 2020-01-24 & Cook & Illinois & 17031 & 1 & 0 \\\\\n",
       "\t5 & 2020-01-24 & Snohomish & Washington & 53061 & 1 & 0 \\\\\n",
       "\t6 & 2020-01-25 & Orange & California & 6059 & 1 & 0 \\\\\n",
       "\t7 & 2020-01-25 & Cook & Illinois & 17031 & 1 & 0 \\\\\n",
       "\t8 & 2020-01-25 & Snohomish & Washington & 53061 & 1 & 0 \\\\\n",
       "\t9 & 2020-01-26 & Maricopa & Arizona & 4013 & 1 & 0 \\\\\n",
       "\t10 & 2020-01-26 & Los Angeles & California & 6037 & 1 & 0 \\\\\n",
       "\t11 & 2020-01-26 & Orange & California & 6059 & 1 & 0 \\\\\n",
       "\t12 & 2020-01-26 & Cook & Illinois & 17031 & 1 & 0 \\\\\n",
       "\t13 & 2020-01-26 & Snohomish & Washington & 53061 & 1 & 0 \\\\\n",
       "\t14 & 2020-01-27 & Maricopa & Arizona & 4013 & 1 & 0 \\\\\n",
       "\t15 & 2020-01-27 & Los Angeles & California & 6037 & 1 & 0 \\\\\n",
       "\t16 & 2020-01-27 & Orange & California & 6059 & 1 & 0 \\\\\n",
       "\t17 & 2020-01-27 & Cook & Illinois & 17031 & 1 & 0 \\\\\n",
       "\t18 & 2020-01-27 & Snohomish & Washington & 53061 & 1 & 0 \\\\\n",
       "\t19 & 2020-01-28 & Maricopa & Arizona & 4013 & 1 & 0 \\\\\n",
       "\t20 & 2020-01-28 & Los Angeles & California & 6037 & 1 & 0 \\\\\n",
       "\t21 & 2020-01-28 & Orange & California & 6059 & 1 & 0 \\\\\n",
       "\t22 & 2020-01-28 & Cook & Illinois & 17031 & 1 & 0 \\\\\n",
       "\t23 & 2020-01-28 & Snohomish & Washington & 53061 & 1 & 0 \\\\\n",
       "\t24 & 2020-01-29 & Maricopa & Arizona & 4013 & 1 & 0 \\\\\n",
       "\t25 & 2020-01-29 & Los Angeles & California & 6037 & 1 & 0 \\\\\n",
       "\t26 & 2020-01-29 & Orange & California & 6059 & 1 & 0 \\\\\n",
       "\t27 & 2020-01-29 & Cook & Illinois & 17031 & 1 & 0 \\\\\n",
       "\t28 & 2020-01-29 & Snohomish & Washington & 53061 & 1 & 0 \\\\\n",
       "\t29 & 2020-01-30 & Maricopa & Arizona & 4013 & 1 & 0 \\\\\n",
       "\t30 & 2020-01-30 & Los Angeles & California & 6037 & 1 & 0 \\\\\n",
       "\t$\\dots$ & $\\dots$ & $\\dots$ & $\\dots$ & $\\dots$ & $\\dots$ & $\\dots$ \\\\\n",
       "\\end{tabular}\n"
      ],
      "text/plain": [
       "38197×6 DataFrame\n",
       "│ Row   │ date       │ county      │ state      │ fips   │ cases │ deaths │\n",
       "│       │ \u001b[90mDates.Date\u001b[39m │ \u001b[90mString\u001b[39m      │ \u001b[90mString\u001b[39m     │ \u001b[90mInt64⍰\u001b[39m │ \u001b[90mInt64\u001b[39m │ \u001b[90mInt64\u001b[39m  │\n",
       "├───────┼────────────┼─────────────┼────────────┼────────┼───────┼────────┤\n",
       "│ 1     │ 2020-01-21 │ Snohomish   │ Washington │ 53061  │ 1     │ 0      │\n",
       "│ 2     │ 2020-01-22 │ Snohomish   │ Washington │ 53061  │ 1     │ 0      │\n",
       "│ 3     │ 2020-01-23 │ Snohomish   │ Washington │ 53061  │ 1     │ 0      │\n",
       "│ 4     │ 2020-01-24 │ Cook        │ Illinois   │ 17031  │ 1     │ 0      │\n",
       "│ 5     │ 2020-01-24 │ Snohomish   │ Washington │ 53061  │ 1     │ 0      │\n",
       "│ 6     │ 2020-01-25 │ Orange      │ California │ 6059   │ 1     │ 0      │\n",
       "│ 7     │ 2020-01-25 │ Cook        │ Illinois   │ 17031  │ 1     │ 0      │\n",
       "│ 8     │ 2020-01-25 │ Snohomish   │ Washington │ 53061  │ 1     │ 0      │\n",
       "│ 9     │ 2020-01-26 │ Maricopa    │ Arizona    │ 4013   │ 1     │ 0      │\n",
       "│ 10    │ 2020-01-26 │ Los Angeles │ California │ 6037   │ 1     │ 0      │\n",
       "⋮\n",
       "│ 38187 │ 2020-04-06 │ Johnson     │ Wyoming    │ 56019  │ 8     │ 0      │\n",
       "│ 38188 │ 2020-04-06 │ Laramie     │ Wyoming    │ 56021  │ 45    │ 0      │\n",
       "│ 38189 │ 2020-04-06 │ Lincoln     │ Wyoming    │ 56023  │ 4     │ 0      │\n",
       "│ 38190 │ 2020-04-06 │ Natrona     │ Wyoming    │ 56025  │ 26    │ 0      │\n",
       "│ 38191 │ 2020-04-06 │ Park        │ Wyoming    │ 56029  │ 1     │ 0      │\n",
       "│ 38192 │ 2020-04-06 │ Sheridan    │ Wyoming    │ 56033  │ 12    │ 0      │\n",
       "│ 38193 │ 2020-04-06 │ Sublette    │ Wyoming    │ 56035  │ 1     │ 0      │\n",
       "│ 38194 │ 2020-04-06 │ Sweetwater  │ Wyoming    │ 56037  │ 5     │ 0      │\n",
       "│ 38195 │ 2020-04-06 │ Teton       │ Wyoming    │ 56039  │ 40    │ 0      │\n",
       "│ 38196 │ 2020-04-06 │ Uinta       │ Wyoming    │ 56041  │ 3     │ 0      │\n",
       "│ 38197 │ 2020-04-06 │ Washakie    │ Wyoming    │ 56043  │ 4     │ 0      │"
      ]
     },
     "execution_count": 39,
     "metadata": {},
     "output_type": "execute_result"
    }
   ],
   "source": []
  },
  {
   "cell_type": "code",
   "execution_count": 1,
   "metadata": {},
   "outputs": [
    {
     "name": "stderr",
     "output_type": "stream",
     "text": [
      "┌ Info: Precompiling CSV [336ed68f-0bac-5ca0-87d4-7b16caf5d00b]\n",
      "└ @ Base loading.jl:1260\n"
     ]
    },
    {
     "ename": "ArgumentError",
     "evalue": "ArgumentError: Package HTTP not found in current path:\n- Run `import Pkg; Pkg.add(\"HTTP\")` to install the HTTP package.\n",
     "output_type": "error",
     "traceback": [
      "ArgumentError: Package HTTP not found in current path:\n- Run `import Pkg; Pkg.add(\"HTTP\")` to install the HTTP package.\n",
      "",
      "Stacktrace:",
      " [1] require(::Module, ::Symbol) at ./loading.jl:892"
     ]
    }
   ],
   "source": [
    "module COVID19\n",
    "# This code loads COVID19 data from https://github.com/CSSEGISandData/COVID-19\n",
    "#\n",
    "# COVID19:\n",
    "# https://github.com/CSSEGISandData/COVID-19/tree/master/csse_covid_19_data/csse_covid_19_time_series\n",
    "#\n",
    "# FIPS: \n",
    "# https://raw.githubusercontent.com/CSSEGISandData/COVID-19/master/csse_covid_19_data/UID_ISO_FIPS_LookUp_Table.csv\n",
    "\n",
    "using CSV, HTTP, DataFrames, Dates\n",
    "\n",
    "export confirmed, death, recovered, t, lat, lon, country, region\n",
    "\n",
    "function load_covid19()\n",
    "    covid19url_confirmed_US = \"https://raw.githubusercontent.com/CSSEGISandData/COVID-19/master/csse_covid_19_data/csse_covid_19_time_series/time_series_covid19_confirmed_US.csv\"\n",
    "    covid19url_confirmed_global = \"https://raw.githubusercontent.com/CSSEGISandData/COVID-19/master/csse_covid_19_data/csse_covid_19_time_series/time_series_covid19_confirmed_global.csv\"\n",
    "    covid19url_death_US = \"https://raw.githubusercontent.com/CSSEGISandData/COVID-19/master/csse_covid_19_data/csse_covid_19_time_series/time_series_covid19_deaths_US.csv\"\n",
    "    covid19url_death_global = \"https://raw.githubusercontent.com/CSSEGISandData/COVID-19/master/csse_covid_19_data/csse_covid_19_time_series/time_series_covid19_deaths_global.csv\"\n",
    "    covid19url_recovered_global = \"https://raw.githubusercontent.com/CSSEGISandData/COVID-19/master/csse_covid_19_data/csse_covid_19_time_series/time_series_covid19_recovered_global.csv\"\n",
    "    covid19url_fips = \"https://raw.githubusercontent.com/CSSEGISandData/COVID-19/master/csse_covid_19_data/UID_ISO_FIPS_LookUp_Table.csv\"\n",
    "\n",
    "    covid19path_confirmed_US = ENV[\"HOME\"] * \"/Box/Data/COVID19/covid19_confirmed_US.csv\"\n",
    "    covid19path_confirmed_global = ENV[\"HOME\"] * \"/Box/Data/COVID19/covid19_confirmed_global.csv\"\n",
    "    covid19path_death_US = ENV[\"HOME\"] * \"/Box/Data/COVID19/covid19_death_US.csv\"\n",
    "    covid19path_death_global = ENV[\"HOME\"] * \"/Box/Data/COVID19/covid19_death_global.csv\"\n",
    "    covid19path_recovered_global = ENV[\"HOME\"] * \"/Box/Data/COVID19/covid19_recovered_global.csv\"\n",
    "    covid19path_fips = ENV[\"HOME\"] * \"/Box/Data/COVID19/UID_ISO_FIPS_LookUp_Table.csv\"\n",
    "\n",
    "    download(covid19url_confirmed_US, covid19path_confirmed_US)\n",
    "    download(covid19url_confirmed_global, covid19path_confirmed_global)\n",
    "    download(covid19url_death_US, covid19path_death_US)\n",
    "    download(covid19url_death_global, covid19path_death_global)\n",
    "    download(covid19url_recovered_global, covid19path_recovered_global)\n",
    "    download(covid19url_fips, covid19path_fips)\n",
    "\n",
    "#=     io = open(covid19path_confirmed, \"w\")\n",
    "    r = HTTP.request(\"GET\", covid19url_confirmed, response_stream=io)\n",
    "    close(io)\n",
    "    io = open(covid19path_death, \"w\")\n",
    "    r = HTTP.request(\"GET\", covid19url_death, response_stream=io)\n",
    "    close(io)\n",
    "    io = open(covid19path_recovered, \"w\")\n",
    "    r = HTTP.request(\"GET\", covid19url_recovered, response_stream=io)\n",
    "    close(io) =#\n",
    "\n",
    "    confirmed_US = CSV.read(covid19path_confirmed_US);\n",
    "    death_US = CSV.read(covid19path_death_US);\n",
    "    confirmed_global = CSV.read(covid19path_confirmed_global);\n",
    "    death_global = CSV.read(covid19path_death_global);\n",
    "    recovered_global = CSV.read(covid19path_recovered_global);\n",
    "    fipstable = CSV.read(covid19path_fips);\n",
    "\n",
    "    return confirmed_US, death_US, confirmed_global, death_global, recovered_global, fipstable\n",
    "end\n",
    "(confirmed_US,death_US, confirmed_global, death_global, recovered_global, fipstable) = load_covid19()\n",
    "\n",
    "t0 = Date(\"2020-01-22\")\n",
    "ndays = Dates.today() - t0;\n",
    "t = collect(t0 : Day(1) : Dates.today());\n",
    "\n",
    "c0_global = 5;\n",
    "c0_US = 12;\n",
    "\n",
    "latg = confirmed_global.Lat;\n",
    "long = confirmed_global.Long;\n",
    "country = confirmed_global[:,2];\n",
    "region = confirmed_global[:,3];\n",
    "fips = fipstable;\n",
    "\n",
    "\n",
    "end\n"
   ]
  },
  {
   "cell_type": "code",
   "execution_count": null,
   "metadata": {},
   "outputs": [],
   "source": []
  }
 ],
 "metadata": {
  "kernelspec": {
   "display_name": "Julia 1.4.2",
   "language": "julia",
   "name": "julia-1.4"
  },
  "language_info": {
   "file_extension": ".jl",
   "mimetype": "application/julia",
   "name": "julia",
   "version": "1.4.2"
  }
 },
 "nbformat": 4,
 "nbformat_minor": 4
}
