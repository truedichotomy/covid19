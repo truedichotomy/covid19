{
 "cells": [
  {
   "cell_type": "markdown",
   "metadata": {},
   "source": [
    "# COVID-19 data analysis"
   ]
  },
  {
   "cell_type": "markdown",
   "metadata": {},
   "source": [
    "## Initialize Julia Environment"
   ]
  },
  {
   "cell_type": "code",
   "execution_count": null,
   "metadata": {},
   "outputs": [],
   "source": [
    "using Pkg\n",
    "Pkg.activate(ENV[\"HOME\"] * \"/.julia/environments/\" * \"covid19\")\n",
    "if (ENV[\"HOME\"] * \"/GitHub/covid19\" in LOAD_PATH) == false\n",
    "    push!(LOAD_PATH, pwd());\n",
    "end\n",
    "ENV[\"PYTHON\"] = ENV[\"CONDA_PYTHON_EXE\"]\n",
    "#]add CSV HTTP GitHub DataFrames PyCall PyPlot Plots Dates Statistics TimeSeries MLJ XGBoost Measurements LsqFit NCDatasets Glob JSON3 Tables Pandas FileIO CSVFiles Missings JLD2 OnlineStats CUDAnative CuArrays\n",
    "#Pkg.build(\"PyCall\")\n",
    "\n",
    "using Plots, Statistics\n",
    "plotly()"
   ]
  },
  {
   "cell_type": "markdown",
   "metadata": {},
   "source": [
    "## Load COVID-19 Data"
   ]
  },
  {
   "cell_type": "code",
   "execution_count": null,
   "metadata": {},
   "outputs": [],
   "source": [
    "import COVID19\n",
    "(covid19g, covid19us) = COVID19.load_data();"
   ]
  },
  {
   "cell_type": "code",
   "execution_count": null,
   "metadata": {},
   "outputs": [],
   "source": [
    "fips = [covid19us[i].fips for i in 1:length(covid19us)];\n",
    "county = [covid19us[i].county for i in 1:length(covid19us)];\n",
    "state = [covid19us[i].province_state for i in 1:length(covid19us)];"
   ]
  },
  {
   "cell_type": "code",
   "execution_count": null,
   "metadata": {},
   "outputs": [],
   "source": [
    "#ind = findall((county .== \"Anderson\") .& (state .== \"Texas\"))"
   ]
  },
  {
   "cell_type": "markdown",
   "metadata": {},
   "source": [
    "## Plot COVID-19 Data for specific state"
   ]
  },
  {
   "cell_type": "code",
   "execution_count": null,
   "metadata": {},
   "outputs": [],
   "source": [
    "ind = findall(state .== \"Arizona\");\n",
    "confirmed = [Float64.(covid19us[ind[i]].confirmed) for i in 1:length(ind)];\n",
    "totalconfirmed = Float64.(deepcopy(confirmed[1]));\n",
    "for i = 2:length(confirmed)\n",
    "    totalconfirmed .= totalconfirmed .+ confirmed[i];\n",
    "end\n",
    "ind0 = findall(totalconfirmed .== 0);\n",
    "totalconfirmed[ind0] .= NaN\n",
    "\n",
    "tind = 1:length(covid19us[ind[1]].confirmed);\n",
    "t = covid19us[ind[1]].time[tind];\n",
    "\n",
    "pCOVID19 = plot(t, totalconfirmed, label=state[ind[1]] * \" Total\")\n",
    "for i = 1:length(ind)\n",
    "    confirmi = Float64.(deepcopy(covid19us[ind[i]].confirmed[tind]));\n",
    "    ind0 = findall(confirmi .== 0);\n",
    "    confirmi[ind0] .= NaN;\n",
    "    plot!(covid19us[ind[i]].time[tind], confirmi, label=county[ind[i]])\n",
    "end\n",
    "#plot!(ylim=(0,5))\n",
    "plot(pCOVID19, xrotation=20, size=(800,500), legend=:outertopright, yscale=:log10, framestyle=:box, title=state[ind[1]] * \" - Confirmed COVID-19 Cases\")"
   ]
  }
 ],
 "metadata": {
  "@webio": {
   "lastCommId": null,
   "lastKernelId": null
  },
  "kernelspec": {
   "display_name": "Julia 1.5.0-rc1",
   "language": "julia",
   "name": "julia-1.5"
  },
  "language_info": {
   "file_extension": ".jl",
   "mimetype": "application/julia",
   "name": "julia",
   "version": "1.5.0"
  }
 },
 "nbformat": 4,
 "nbformat_minor": 4
}
